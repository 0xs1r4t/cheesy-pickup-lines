{
  "nbformat": 4,
  "nbformat_minor": 0,
  "metadata": {
    "colab": {
      "name": "MarkovChains.ipynb",
      "provenance": [],
      "collapsed_sections": [],
      "toc_visible": true
    },
    "kernelspec": {
      "name": "python3",
      "display_name": "Python 3"
    }
  },
  "cells": [
    {
      "cell_type": "markdown",
      "metadata": {
        "id": "Avd8KH07aVyf"
      },
      "source": [
        "## MARKOV CHAINS\n"
      ]
    },
    {
      "cell_type": "code",
      "metadata": {
        "id": "ef1M3dpHadTZ",
        "outputId": "04d74cf8-ffde-4bb7-9a0e-6f6a423b5a18",
        "colab": {
          "base_uri": "https://localhost:8080/"
        }
      },
      "source": [
        "!pip install markovify"
      ],
      "execution_count": 1,
      "outputs": [
        {
          "output_type": "stream",
          "text": [
            "Collecting markovify\n",
            "  Downloading https://files.pythonhosted.org/packages/33/92/4036691c7ea53e545e98e0ffffcef357ca19aa2405df366ae5b8b7da391a/markovify-0.8.3.tar.gz\n",
            "Collecting unidecode\n",
            "\u001b[?25l  Downloading https://files.pythonhosted.org/packages/d0/42/d9edfed04228bacea2d824904cae367ee9efd05e6cce7ceaaedd0b0ad964/Unidecode-1.1.1-py2.py3-none-any.whl (238kB)\n",
            "\u001b[K     |████████████████████████████████| 245kB 5.3MB/s \n",
            "\u001b[?25hBuilding wheels for collected packages: markovify\n",
            "  Building wheel for markovify (setup.py) ... \u001b[?25l\u001b[?25hdone\n",
            "  Created wheel for markovify: filename=markovify-0.8.3-cp36-none-any.whl size=18416 sha256=cff19855be4496495259f4660433f8d75082cb25d54486b73becaf1c3f00c849\n",
            "  Stored in directory: /root/.cache/pip/wheels/5e/e5/be/8e61715070048813947af5fb32f47b4cf9dddd37c965800bdb\n",
            "Successfully built markovify\n",
            "Installing collected packages: unidecode, markovify\n",
            "Successfully installed markovify-0.8.3 unidecode-1.1.1\n"
          ],
          "name": "stdout"
        }
      ]
    },
    {
      "cell_type": "code",
      "metadata": {
        "id": "ppvIJUn9aYhT"
      },
      "source": [
        "import random\n",
        "import markovify"
      ],
      "execution_count": 2,
      "outputs": []
    },
    {
      "cell_type": "code",
      "metadata": {
        "id": "8er5hdtWadv4"
      },
      "source": [
        "def markov_text():\n",
        "    data_sample = \"pick-up-lines.txt\"\n",
        "    text_data = open(data_sample, 'r').read()\n",
        "    text_data = ''.join([i for i in text_data if not i.isdigit()]).replace(\"\\n\", \" \").split(' ')\n",
        "    index = 1\n",
        "    markov_gen = {}\n",
        "    word_count = int(input('select the number of words you want to generate'))\n",
        "\n",
        "    for character in text_data[index:]:\n",
        "        key = text_data[index-1]\n",
        "        if key in markov_gen:\n",
        "            markov_gen[key].append(character)\n",
        "        else:\n",
        "            markov_gen[key] = [character]\n",
        "        index += 1"
      ],
      "execution_count": 14,
      "outputs": []
    },
    {
      "cell_type": "code",
      "metadata": {
        "id": "OWUIwYaWaoUs"
      },
      "source": [
        "with open(\"pick-up-lines.txt\") as f:\n",
        "    data = f.read()"
      ],
      "execution_count": 15,
      "outputs": []
    },
    {
      "cell_type": "code",
      "metadata": {
        "id": "JyhsvkjAa__P"
      },
      "source": [
        "data_model = markovify.Text(data)\n",
        "def pickUpLines():\n",
        "  for i in range(3):\n",
        "    return data_model.make_short_sentence(280)"
      ],
      "execution_count": 36,
      "outputs": []
    },
    {
      "cell_type": "code",
      "metadata": {
        "id": "MeRo0llTd5rB"
      },
      "source": [
        "def generate():\n",
        "  new_line = pickUpLines() + \"\\n\"\n",
        "\n",
        "  with open(\"generated.txt\", \"a\") as f:\n",
        "    f.write(new_line)\n",
        "  \n",
        "  print(new_line)"
      ],
      "execution_count": 56,
      "outputs": []
    },
    {
      "cell_type": "code",
      "metadata": {
        "id": "pfM6xyGpgTuz",
        "outputId": "7e963a53-29e5-46a5-fde5-7d39cfa7df71",
        "colab": {
          "base_uri": "https://localhost:8080/"
        }
      },
      "source": [
        "generate()"
      ],
      "execution_count": 92,
      "outputs": [
        {
          "output_type": "stream",
          "text": [
            "Mmmm, you bring in your pocket or you are on my wallet.\n",
            "\n"
          ],
          "name": "stdout"
        }
      ]
    },
    {
      "cell_type": "code",
      "metadata": {
        "id": "KvnGfVvOhBsR"
      },
      "source": [
        ""
      ],
      "execution_count": null,
      "outputs": []
    }
  ]
}