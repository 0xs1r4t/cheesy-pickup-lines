{
  "nbformat": 4,
  "nbformat_minor": 0,
  "metadata": {
    "colab": {
      "name": "MarkovChains.ipynb",
      "provenance": []
    },
    "kernelspec": {
      "name": "python3",
      "display_name": "Python 3"
    }
  },
  "cells": [
    {
      "cell_type": "markdown",
      "metadata": {
        "id": "Co_vLmRAHZw6"
      },
      "source": [
        "Cheesy Pick-Up Lines\n",
        "\n",
        "- [Text Generation with Markov Chains](https://analyticsindiamag.com/hands-on-guide-to-markov-chain-for-text-generation/)"
      ]
    },
    {
      "cell_type": "code",
      "metadata": {
        "id": "kkTI33eYHU56"
      },
      "source": [
        "import random\n",
        "def markov_text():\n",
        "    data_sample = \"pick-up-lines.txt\"\n",
        "    text_data = open(data_sample, 'r').read()\n",
        "    text_data = ''.join([i for i in text_data if not i.isdigit()]).replace(\"\\n\", \" \").split(' ')\n",
        "    index = 1\n",
        "    markov_gen = {}\n",
        "    word_count = int(input('select the number of words you want to generate'))\n",
        "\n",
        "    for character in text_data[index:]:\n",
        "        key = text_data[index-1]\n",
        "        if key in markov_gen:\n",
        "            markov_gen[key].append(character)\n",
        "        else:\n",
        "            markov_gen[key] = [character]\n",
        "        index += 1\n"
      ],
      "execution_count": 6,
      "outputs": []
    },
    {
      "cell_type": "code",
      "metadata": {
        "id": "zEtBA9fZHbgB",
        "outputId": "c3af0835-588c-4ba3-a7c9-d02017e0dd6d",
        "colab": {
          "base_uri": "https://localhost:8080/",
          "height": 241
        }
      },
      "source": [
        "!pip install markovify"
      ],
      "execution_count": 4,
      "outputs": [
        {
          "output_type": "stream",
          "text": [
            "Collecting markovify\n",
            "  Downloading https://files.pythonhosted.org/packages/33/92/4036691c7ea53e545e98e0ffffcef357ca19aa2405df366ae5b8b7da391a/markovify-0.8.3.tar.gz\n",
            "Collecting unidecode\n",
            "\u001b[?25l  Downloading https://files.pythonhosted.org/packages/d0/42/d9edfed04228bacea2d824904cae367ee9efd05e6cce7ceaaedd0b0ad964/Unidecode-1.1.1-py2.py3-none-any.whl (238kB)\n",
            "\u001b[K     |████████████████████████████████| 245kB 4.0MB/s \n",
            "\u001b[?25hBuilding wheels for collected packages: markovify\n",
            "  Building wheel for markovify (setup.py) ... \u001b[?25l\u001b[?25hdone\n",
            "  Created wheel for markovify: filename=markovify-0.8.3-cp36-none-any.whl size=18416 sha256=579e9d0e5141d2574acdbaf9637fc461de45ab2306c7ace34f3808e075540222\n",
            "  Stored in directory: /root/.cache/pip/wheels/5e/e5/be/8e61715070048813947af5fb32f47b4cf9dddd37c965800bdb\n",
            "Successfully built markovify\n",
            "Installing collected packages: unidecode, markovify\n",
            "Successfully installed markovify-0.8.3 unidecode-1.1.1\n"
          ],
          "name": "stdout"
        }
      ]
    },
    {
      "cell_type": "code",
      "metadata": {
        "id": "SU6VTqkVIN9m"
      },
      "source": [
        "import markovify\n",
        "with open(\"pick-up-lines.txt\") as f:\n",
        "    data = f.read()"
      ],
      "execution_count": 7,
      "outputs": []
    },
    {
      "cell_type": "code",
      "metadata": {
        "id": "lafIICZIIbQF",
        "outputId": "5ccfbe8e-ef19-41a5-b5b5-0cb78a3f4f00",
        "colab": {
          "base_uri": "https://localhost:8080/",
          "height": 68
        }
      },
      "source": [
        "data_model = markovify.Text(data)\n",
        "for i in range(3):\n",
        "    print(data_model.make_sentence())"
      ],
      "execution_count": 8,
      "outputs": [
        {
          "output_type": "stream",
          "text": [
            "I don't want you on Nickelodeon?\n",
            "Are you a peeling.\n",
            "If I were a tear drop, I would like to see my POLI-WAG?\n"
          ],
          "name": "stdout"
        }
      ]
    },
    {
      "cell_type": "code",
      "metadata": {
        "id": "gAKAKOhoJnuP"
      },
      "source": [
        "def pickUpLines():\n",
        "  for i in range(3):\n",
        "    print(data_model.make_short_sentence(280))"
      ],
      "execution_count": 13,
      "outputs": []
    },
    {
      "cell_type": "code",
      "metadata": {
        "id": "vql7f9GsIjYS",
        "outputId": "0bb4e463-5d59-4354-dd5f-efe3533ac586",
        "colab": {
          "base_uri": "https://localhost:8080/",
          "height": 68
        }
      },
      "source": [
        "pickUpLines()"
      ],
      "execution_count": 9,
      "outputs": [
        {
          "output_type": "stream",
          "text": [
            "What's on the finer things in life, and I just broke my leg falling for anyone else.\n",
            "If I’m vinegar, then you must be dancing with the devil, because you're making me grow.\n",
            "Do you wanna see your blueprints?\n"
          ],
          "name": "stdout"
        }
      ]
    },
    {
      "cell_type": "code",
      "metadata": {
        "id": "D5K27e4zImxk",
        "outputId": "77279823-3be9-4332-cac9-0d8cc2634921",
        "colab": {
          "base_uri": "https://localhost:8080/",
          "height": 68
        }
      },
      "source": [
        "pickUpLines()"
      ],
      "execution_count": 10,
      "outputs": [
        {
          "output_type": "stream",
          "text": [
            "Can you kiss it and make you mine.\n",
            "Are you a video game cause I am totally checking you out.\n",
            "Every time i see you, you tripped me!\n"
          ],
          "name": "stdout"
        }
      ]
    },
    {
      "cell_type": "code",
      "metadata": {
        "id": "o_6oybpQJm-h",
        "outputId": "4869428c-dfe8-44d4-c3b2-a594f9313220",
        "colab": {
          "base_uri": "https://localhost:8080/",
          "height": 88
        }
      },
      "source": [
        "pickUpLines()"
      ],
      "execution_count": 11,
      "outputs": [
        {
          "output_type": "stream",
          "text": [
            "Your face is too, that only happens when I’m around you, all I do a little harder, cry a little thirsty when you don’t like drips.\n",
            "Life without you is the best policy, so to be my substrate/enzyme?\n",
            "You must be something wrong with my eyes, I can’t seem to take you to join me?\n"
          ],
          "name": "stdout"
        }
      ]
    },
    {
      "cell_type": "code",
      "metadata": {
        "id": "Svz-RiJ6JsAl",
        "outputId": "09ec1875-bd73-4416-d297-7357737eadf9",
        "colab": {
          "base_uri": "https://localhost:8080/",
          "height": 68
        }
      },
      "source": [
        "pickUpLines()"
      ],
      "execution_count": 14,
      "outputs": [
        {
          "output_type": "stream",
          "text": [
            "I'm new in town, could you please step away from the holodeck?\n",
            "Whenever I am the one for me!\n",
            "If you were a steak you would make the devil sweat.\n"
          ],
          "name": "stdout"
        }
      ]
    },
    {
      "cell_type": "code",
      "metadata": {
        "id": "fhI031u6JwvC",
        "outputId": "a8949aff-87ea-4c04-f381-8383954a73a9",
        "colab": {
          "base_uri": "https://localhost:8080/",
          "height": 88
        }
      },
      "source": [
        "pickUpLines()"
      ],
      "execution_count": 15,
      "outputs": [
        {
          "output_type": "stream",
          "text": [
            "Inheriting eighty million bucks doesn't mean much when you can't fall asleep because reality is better than a triple integral.\n",
            "Were you born in your eye.\n",
            "Hey Beauty, can I get the address of your home page.\n"
          ],
          "name": "stdout"
        }
      ]
    },
    {
      "cell_type": "code",
      "metadata": {
        "id": "iADzHxLlJx7N",
        "outputId": "e393c5c3-8895-49ef-b6f9-e305c0e0030c",
        "colab": {
          "base_uri": "https://localhost:8080/",
          "height": 68
        }
      },
      "source": [
        "pickUpLines()"
      ],
      "execution_count": 16,
      "outputs": [
        {
          "output_type": "stream",
          "text": [
            "If I had a rose for every time I look at me the way you espresso yourself.\n",
            "Do you have a smooth endoplasmic reticulum but know that angels could fly so low!\n",
            "You’re like a gateway into the world of which I want to take a dip in your pocket?\n"
          ],
          "name": "stdout"
        }
      ]
    },
    {
      "cell_type": "code",
      "metadata": {
        "id": "wNS6XeGiJyUD",
        "outputId": "93d1dc00-55c6-4d5c-e1a5-3e97af911771",
        "colab": {
          "base_uri": "https://localhost:8080/",
          "height": 68
        }
      },
      "source": [
        "pickUpLines()"
      ],
      "execution_count": 17,
      "outputs": [
        {
          "output_type": "stream",
          "text": [
            "Your eyes are blue, like the area bounded by your beauty...\n",
            "Cause I want to take you out.\n",
            "You're hotter than Din's fire I think I dropped mine.\n"
          ],
          "name": "stdout"
        }
      ]
    },
    {
      "cell_type": "code",
      "metadata": {
        "id": "HJdplgfBJypG"
      },
      "source": [
        "def pickUpLine():\n",
        "  for i in range(1):\n",
        "    print(data_model.make_short_sentence(280))"
      ],
      "execution_count": 18,
      "outputs": []
    },
    {
      "cell_type": "code",
      "metadata": {
        "id": "R_2Dj6CXKc2Q",
        "outputId": "caadf19d-28d9-45a4-c253-488b39515836",
        "colab": {
          "base_uri": "https://localhost:8080/",
          "height": 54
        }
      },
      "source": [
        "pickUpLine()"
      ],
      "execution_count": 19,
      "outputs": [
        {
          "output_type": "stream",
          "text": [
            "If I had a rose for every time I look into the Mirror of Erised, I'd see the sun come out or did you just rock my world?\n"
          ],
          "name": "stdout"
        }
      ]
    },
    {
      "cell_type": "code",
      "metadata": {
        "id": "OIvtj1HwKeXR",
        "outputId": "d21eee37-3def-46f5-b026-a8b9bc8ea98e",
        "colab": {
          "base_uri": "https://localhost:8080/",
          "height": 34
        }
      },
      "source": [
        "pickUpLine()"
      ],
      "execution_count": 20,
      "outputs": [
        {
          "output_type": "stream",
          "text": [
            "So I am near you, I dropped mine.\n"
          ],
          "name": "stdout"
        }
      ]
    },
    {
      "cell_type": "code",
      "metadata": {
        "id": "KyXuThK0Kg9q",
        "outputId": "ea59a903-dfe7-433b-f3cd-7070c52a441d",
        "colab": {
          "base_uri": "https://localhost:8080/",
          "height": 34
        }
      },
      "source": [
        "pickUpLine()"
      ],
      "execution_count": 21,
      "outputs": [
        {
          "output_type": "stream",
          "text": [
            "Stop, drop, and roll, because you just smile at me?\n"
          ],
          "name": "stdout"
        }
      ]
    },
    {
      "cell_type": "code",
      "metadata": {
        "id": "y-U0LZjKKhVX",
        "outputId": "cca17db1-a648-4f55-e54d-c4bee076fac5",
        "colab": {
          "base_uri": "https://localhost:8080/",
          "height": 34
        }
      },
      "source": [
        "pickUpLine()"
      ],
      "execution_count": 22,
      "outputs": [
        {
          "output_type": "stream",
          "text": [
            "I'm sorry, I thought of you, I smile.\n"
          ],
          "name": "stdout"
        }
      ]
    },
    {
      "cell_type": "code",
      "metadata": {
        "id": "TENZmhC0KhrE",
        "outputId": "dcf10c46-7431-411d-a99c-a63e62a1103d",
        "colab": {
          "base_uri": "https://localhost:8080/",
          "height": 34
        }
      },
      "source": [
        "pickUpLine()"
      ],
      "execution_count": 23,
      "outputs": [
        {
          "output_type": "stream",
          "text": [
            "If I were a steak you would be walking through my mind all night.\n"
          ],
          "name": "stdout"
        }
      ]
    },
    {
      "cell_type": "code",
      "metadata": {
        "id": "KqVjfW5SKiMw",
        "outputId": "488ac212-5b50-4f94-dcd1-7cf3ee832ebb",
        "colab": {
          "base_uri": "https://localhost:8080/",
          "height": 34
        }
      },
      "source": [
        "pickUpLine()"
      ],
      "execution_count": 24,
      "outputs": [
        {
          "output_type": "stream",
          "text": [
            "I want to go outside and get under the covers.\n"
          ],
          "name": "stdout"
        }
      ]
    },
    {
      "cell_type": "code",
      "metadata": {
        "id": "mQNBHcmfKiqk",
        "outputId": "a9eea029-8c7c-4bab-9b39-d8d443b9b601",
        "colab": {
          "base_uri": "https://localhost:8080/",
          "height": 34
        }
      },
      "source": [
        "pickUpLine()"
      ],
      "execution_count": 25,
      "outputs": [
        {
          "output_type": "stream",
          "text": [
            "I think that you had a dollar for every time I look at you, everyone else disappears.\n"
          ],
          "name": "stdout"
        }
      ]
    },
    {
      "cell_type": "code",
      "metadata": {
        "id": "-WAx1joVKjG7"
      },
      "source": [
        "# this one is actually pretty comprehensible,,"
      ],
      "execution_count": null,
      "outputs": []
    }
  ]
}