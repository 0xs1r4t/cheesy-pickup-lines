{
  "nbformat": 4,
  "nbformat_minor": 0,
  "metadata": {
    "colab": {
      "name": "charRNN",
      "provenance": [],
      "collapsed_sections": [],
      "toc_visible": true
    },
    "kernelspec": {
      "name": "python3",
      "display_name": "Python 3"
    }
  },
  "cells": [
    {
      "cell_type": "markdown",
      "metadata": {
        "id": "-JVbkkFyQQ9R",
        "colab_type": "text"
      },
      "source": [
        "# CharRNN - Cheesy Pick-Up Lines Generator\n",
        "A _cheesy pick-up line generator_ which might just increase your chances of getting a tinder date?\n",
        "\n",
        "### 1. Data Cleaning\n",
        "I collected the data earlier with a web-scraper, but I had to filter more that half of the pick-up lines out by myself and modify them since they were way too direct, off-putting, offensive, or just not gender-inclusive. This is a step I am taking to optimize this mini dataset. "
      ]
    },
    {
      "cell_type": "code",
      "metadata": {
        "id": "9L8GHJv-QT3l",
        "colab_type": "code",
        "colab": {}
      },
      "source": [
        "# imports\n",
        "import numpy as np\n",
        "import pandas as pd\n",
        "import re"
      ],
      "execution_count": null,
      "outputs": []
    },
    {
      "cell_type": "code",
      "metadata": {
        "id": "LRVW95j0QYe6",
        "colab_type": "code",
        "colab": {}
      },
      "source": [
        "data = pd.read_csv('pick-up-lines.txt', sep=\"\\n\", header=None)"
      ],
      "execution_count": null,
      "outputs": []
    },
    {
      "cell_type": "code",
      "metadata": {
        "id": "qM_T2tucQfQA",
        "colab_type": "code",
        "colab": {}
      },
      "source": [
        "data.rename(columns = {0: 'pick up lines'}, inplace=True)"
      ],
      "execution_count": null,
      "outputs": []
    },
    {
      "cell_type": "code",
      "metadata": {
        "id": "SwwuO3lZQiZR",
        "colab_type": "code",
        "colab": {}
      },
      "source": [
        "def cleanText(data, txt, clean_txt):\n",
        "    \n",
        "    # convert all text to lowercase\n",
        "    data[clean_txt] = data[txt].str.lower()\n",
        "    \n",
        "    # remove all special characters\n",
        "    data[clean_txt] = data[clean_txt].apply(lambda elem: re.sub(r\"(@[A-Za-z0-9]+)|([^0-9A-Za-z \\t])|(\\w+:\\/\\/\\S+)|^rt|http.+?\", \"\", elem))  \n",
        "    \n",
        "    # remove all numbers\n",
        "    data[clean_txt] = data[clean_txt].apply(lambda elem: re.sub(r\"\\d+\", \"\", elem))\n",
        "    \n",
        "    return data"
      ],
      "execution_count": null,
      "outputs": []
    },
    {
      "cell_type": "code",
      "metadata": {
        "id": "dbB4nDAMQjbE",
        "colab_type": "code",
        "colab": {}
      },
      "source": [
        "data_clean = cleanText(data, 'pick up lines', 'cleaned data')"
      ],
      "execution_count": null,
      "outputs": []
    },
    {
      "cell_type": "code",
      "metadata": {
        "id": "0b1Q8-Y9Rd_7",
        "colab_type": "code",
        "colab": {
          "base_uri": "https://localhost:8080/",
          "height": 204
        },
        "outputId": "43ce6fb9-4fe2-4eb1-f74b-9505aa68f316"
      },
      "source": [
        "data_clean.head()"
      ],
      "execution_count": null,
      "outputs": [
        {
          "output_type": "execute_result",
          "data": {
            "text/html": [
              "<div>\n",
              "<style scoped>\n",
              "    .dataframe tbody tr th:only-of-type {\n",
              "        vertical-align: middle;\n",
              "    }\n",
              "\n",
              "    .dataframe tbody tr th {\n",
              "        vertical-align: top;\n",
              "    }\n",
              "\n",
              "    .dataframe thead th {\n",
              "        text-align: right;\n",
              "    }\n",
              "</style>\n",
              "<table border=\"1\" class=\"dataframe\">\n",
              "  <thead>\n",
              "    <tr style=\"text-align: right;\">\n",
              "      <th></th>\n",
              "      <th>pick up lines</th>\n",
              "      <th>cleaned data</th>\n",
              "    </tr>\n",
              "  </thead>\n",
              "  <tbody>\n",
              "    <tr>\n",
              "      <th>0</th>\n",
              "      <td>Can I have your picture so I can show Santa wh...</td>\n",
              "      <td>can i have your picture so i can show santa wh...</td>\n",
              "    </tr>\n",
              "    <tr>\n",
              "      <th>1</th>\n",
              "      <td>Are you Google? Because I've just found what I...</td>\n",
              "      <td>are you google because ive just found what ive...</td>\n",
              "    </tr>\n",
              "    <tr>\n",
              "      <th>2</th>\n",
              "      <td>If you stood in front of a mirror and held up ...</td>\n",
              "      <td>if you stood in front of a mirror and held up ...</td>\n",
              "    </tr>\n",
              "    <tr>\n",
              "      <th>3</th>\n",
              "      <td>Your hand looks heavy. Let me hold it for you.</td>\n",
              "      <td>your hand looks heavy let me hold it for you</td>\n",
              "    </tr>\n",
              "    <tr>\n",
              "      <th>4</th>\n",
              "      <td>I'm learning about important dates in history....</td>\n",
              "      <td>im learning about important dates in history w...</td>\n",
              "    </tr>\n",
              "  </tbody>\n",
              "</table>\n",
              "</div>"
            ],
            "text/plain": [
              "                                       pick up lines                                       cleaned data\n",
              "0  Can I have your picture so I can show Santa wh...  can i have your picture so i can show santa wh...\n",
              "1  Are you Google? Because I've just found what I...  are you google because ive just found what ive...\n",
              "2  If you stood in front of a mirror and held up ...  if you stood in front of a mirror and held up ...\n",
              "3     Your hand looks heavy. Let me hold it for you.       your hand looks heavy let me hold it for you\n",
              "4  I'm learning about important dates in history....  im learning about important dates in history w..."
            ]
          },
          "metadata": {
            "tags": []
          },
          "execution_count": 6
        }
      ]
    },
    {
      "cell_type": "code",
      "metadata": {
        "id": "ze-qkpklQlEL",
        "colab_type": "code",
        "colab": {
          "base_uri": "https://localhost:8080/",
          "height": 53
        },
        "outputId": "87af2d19-caf9-41b7-ad75-57b51697bcf5"
      },
      "source": [
        "!pip install nltk --quiet --upgrade"
      ],
      "execution_count": null,
      "outputs": [
        {
          "output_type": "stream",
          "text": [
            "\u001b[K     |████████████████████████████████| 1.4MB 2.9MB/s \n",
            "\u001b[?25h  Building wheel for nltk (setup.py) ... \u001b[?25l\u001b[?25hdone\n"
          ],
          "name": "stdout"
        }
      ]
    },
    {
      "cell_type": "code",
      "metadata": {
        "id": "P8Q0tnGtQpsS",
        "colab_type": "code",
        "colab": {
          "base_uri": "https://localhost:8080/",
          "height": 71
        },
        "outputId": "12573aec-5642-4ab5-dacd-4b4c4c085703"
      },
      "source": [
        "import nltk.corpus\n",
        "nltk.download('stopwords') "
      ],
      "execution_count": null,
      "outputs": [
        {
          "output_type": "stream",
          "text": [
            "[nltk_data] Downloading package stopwords to /root/nltk_data...\n",
            "[nltk_data]   Unzipping corpora/stopwords.zip.\n"
          ],
          "name": "stderr"
        },
        {
          "output_type": "execute_result",
          "data": {
            "text/plain": [
              "True"
            ]
          },
          "metadata": {
            "tags": []
          },
          "execution_count": 8
        }
      ]
    },
    {
      "cell_type": "code",
      "metadata": {
        "id": "kjf52DGXQszW",
        "colab_type": "code",
        "colab": {}
      },
      "source": [
        "from nltk.corpus import stopwords"
      ],
      "execution_count": null,
      "outputs": []
    },
    {
      "cell_type": "code",
      "metadata": {
        "id": "kZ1r3oajQvRK",
        "colab_type": "code",
        "colab": {
          "base_uri": "https://localhost:8080/",
          "height": 204
        },
        "outputId": "5ae4c342-ca50-4414-f24a-38477aa2a298"
      },
      "source": [
        "# remove all stopwords\n",
        "stop = stopwords.words('english')\n",
        "data_clean['cleaned data'] = data_clean['cleaned data'].apply(lambda x: ' '.join([word for word in x.split() if word not in (stop)]))\n",
        "data_clean.head()\n",
        "\n",
        "# dataset kinda doesn't make sense after this at all tbh???"
      ],
      "execution_count": null,
      "outputs": [
        {
          "output_type": "execute_result",
          "data": {
            "text/html": [
              "<div>\n",
              "<style scoped>\n",
              "    .dataframe tbody tr th:only-of-type {\n",
              "        vertical-align: middle;\n",
              "    }\n",
              "\n",
              "    .dataframe tbody tr th {\n",
              "        vertical-align: top;\n",
              "    }\n",
              "\n",
              "    .dataframe thead th {\n",
              "        text-align: right;\n",
              "    }\n",
              "</style>\n",
              "<table border=\"1\" class=\"dataframe\">\n",
              "  <thead>\n",
              "    <tr style=\"text-align: right;\">\n",
              "      <th></th>\n",
              "      <th>pick up lines</th>\n",
              "      <th>cleaned data</th>\n",
              "    </tr>\n",
              "  </thead>\n",
              "  <tbody>\n",
              "    <tr>\n",
              "      <th>0</th>\n",
              "      <td>Can I have your picture so I can show Santa wh...</td>\n",
              "      <td>picture show santa want christmas</td>\n",
              "    </tr>\n",
              "    <tr>\n",
              "      <th>1</th>\n",
              "      <td>Are you Google? Because I've just found what I...</td>\n",
              "      <td>google ive found ive searching</td>\n",
              "    </tr>\n",
              "    <tr>\n",
              "      <th>2</th>\n",
              "      <td>If you stood in front of a mirror and held up ...</td>\n",
              "      <td>stood front mirror held roses would see beauti...</td>\n",
              "    </tr>\n",
              "    <tr>\n",
              "      <th>3</th>\n",
              "      <td>Your hand looks heavy. Let me hold it for you.</td>\n",
              "      <td>hand looks heavy let hold</td>\n",
              "    </tr>\n",
              "    <tr>\n",
              "      <th>4</th>\n",
              "      <td>I'm learning about important dates in history....</td>\n",
              "      <td>im learning important dates history wanna one</td>\n",
              "    </tr>\n",
              "  </tbody>\n",
              "</table>\n",
              "</div>"
            ],
            "text/plain": [
              "                                       pick up lines                                       cleaned data\n",
              "0  Can I have your picture so I can show Santa wh...                  picture show santa want christmas\n",
              "1  Are you Google? Because I've just found what I...                     google ive found ive searching\n",
              "2  If you stood in front of a mirror and held up ...  stood front mirror held roses would see beauti...\n",
              "3     Your hand looks heavy. Let me hold it for you.                          hand looks heavy let hold\n",
              "4  I'm learning about important dates in history....      im learning important dates history wanna one"
            ]
          },
          "metadata": {
            "tags": []
          },
          "execution_count": 10
        }
      ]
    },
    {
      "cell_type": "markdown",
      "metadata": {
        "id": "zMh516toTeI5",
        "colab_type": "text"
      },
      "source": [
        "### 2. Append Data to Input File"
      ]
    },
    {
      "cell_type": "code",
      "metadata": {
        "id": "LM33JHcORm0T",
        "colab_type": "code",
        "colab": {}
      },
      "source": [
        "# append cleaned data to input.txt\n",
        "data_clean['cleaned data'].to_csv('input.txt', header=None, index=None, sep='\\n', mode='a')"
      ],
      "execution_count": null,
      "outputs": []
    },
    {
      "cell_type": "code",
      "metadata": {
        "id": "ED9qatb1S3qF",
        "colab_type": "code",
        "colab": {
          "base_uri": "https://localhost:8080/",
          "height": 35
        },
        "outputId": "bb526b4d-f0fd-4c61-9e6f-7b7e08083d70"
      },
      "source": [
        "# size of input data is still very small but it's about as large as i could make it :/\n",
        "! du -h input.txt"
      ],
      "execution_count": null,
      "outputs": [
        {
          "output_type": "stream",
          "text": [
            "264K\tinput.txt\n"
          ],
          "name": "stdout"
        }
      ]
    },
    {
      "cell_type": "markdown",
      "metadata": {
        "id": "EC5wT5luThX8",
        "colab_type": "text"
      },
      "source": [
        "### 3. Train the Data\n",
        "\n",
        "- [x] [Training CharRNN for ml5.js](https://github.com/ml5js/training-charRNN)"
      ]
    },
    {
      "cell_type": "code",
      "metadata": {
        "id": "Lys147l_THtn",
        "colab_type": "code",
        "colab": {}
      },
      "source": [
        "!git clone https://github.com/ml5js/training-charRNN.git --quiet"
      ],
      "execution_count": 14,
      "outputs": []
    },
    {
      "cell_type": "code",
      "metadata": {
        "id": "u3w34XcKXfjh",
        "colab_type": "code",
        "colab": {}
      },
      "source": [
        "%%shell\n",
        "\n",
        "cd training-charRNN\n",
        "python3 -m pip install tensorflow==1.15.0\n",
        "bash run.sh"
      ],
      "execution_count": null,
      "outputs": []
    }
  ]
}